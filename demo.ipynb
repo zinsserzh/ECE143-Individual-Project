{
 "cells": [
  {
   "cell_type": "markdown",
   "metadata": {},
   "source": [
    "Import libraries and setup plot"
   ]
  },
  {
   "cell_type": "code",
   "execution_count": null,
   "metadata": {},
   "outputs": [],
   "source": [
    "%matplotlib notebook\n",
    "import matplotlib\n",
    "import numpy as np\n",
    "import matplotlib.pyplot as plt\n",
    "from ipywidgets import widgets\n",
    "from IPython.display import display\n",
    "\n",
    "from solver import Solver"
   ]
  },
  {
   "cell_type": "markdown",
   "metadata": {},
   "source": [
    "Create a solver for size (20, 20)"
   ]
  },
  {
   "cell_type": "code",
   "execution_count": null,
   "metadata": {},
   "outputs": [],
   "source": [
    "solver = Solver(width=20, height=20)\n",
    "solver.plot_coverage()"
   ]
  },
  {
   "cell_type": "markdown",
   "metadata": {},
   "source": [
    "Create a tower"
   ]
  },
  {
   "cell_type": "code",
   "execution_count": null,
   "metadata": {
    "scrolled": false
   },
   "outputs": [],
   "source": [
    "button = widgets.Button(description=\"Generate Tower\")\n",
    "\n",
    "def generate_random_tower(b):\n",
    "    global tower\n",
    "    tower = solver.generate_random_valid_tower_untrimmed()\n",
    "    try:\n",
    "        solver.plot_coverage_overlay(tower, im=b.im)\n",
    "    except AttributeError:\n",
    "        b.im = solver.plot_coverage_overlay(tower)\n",
    "\n",
    "button.on_click(generate_random_tower)\n",
    "plt.subplots()\n",
    "display(button)\n",
    "generate_random_tower(button)"
   ]
  },
  {
   "cell_type": "markdown",
   "metadata": {},
   "source": [
    "Add the tower to the solver"
   ]
  },
  {
   "cell_type": "code",
   "execution_count": null,
   "metadata": {},
   "outputs": [],
   "source": [
    "solver.add_tower(tower)\n",
    "solver.plot_coverage()"
   ]
  },
  {
   "cell_type": "code",
   "execution_count": null,
   "metadata": {},
   "outputs": [],
   "source": [
    "tower = solver.generate_random_valid_tower_untrimmed()\n",
    "ut = tower.copy()\n",
    "tower.trim()\n",
    "solver.plot_coverage_overlay(tower, ut)\n",
    "solver.add_tower(tower)"
   ]
  },
  {
   "cell_type": "code",
   "execution_count": null,
   "metadata": {},
   "outputs": [],
   "source": [
    "for tower in solver.tower_list:\n",
    "    print tower.x1, tower.x2, tower.y1, tower.y2"
   ]
  },
  {
   "cell_type": "code",
   "execution_count": null,
   "metadata": {},
   "outputs": [],
   "source": [
    "while not np.all(solver.coverage):\n",
    "    tower = solver.generate_random_valid_tower_trimmed()\n",
    "    solver.add_tower(tower)\n",
    "\n",
    "print len(solver.tower_list)"
   ]
  },
  {
   "cell_type": "code",
   "execution_count": null,
   "metadata": {},
   "outputs": [],
   "source": []
  }
 ],
 "metadata": {
  "kernelspec": {
   "display_name": "Python 2",
   "language": "python",
   "name": "python2"
  },
  "language_info": {
   "codemirror_mode": {
    "name": "ipython",
    "version": 2
   },
   "file_extension": ".py",
   "mimetype": "text/x-python",
   "name": "python",
   "nbconvert_exporter": "python",
   "pygments_lexer": "ipython2",
   "version": "2.7.14"
  }
 },
 "nbformat": 4,
 "nbformat_minor": 2
}
